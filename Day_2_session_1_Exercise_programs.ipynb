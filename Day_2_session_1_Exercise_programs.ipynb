{
  "nbformat": 4,
  "nbformat_minor": 0,
  "metadata": {
    "colab": {
      "name": "Day 2  session 1 Exercise programs.ipynb",
      "provenance": [],
      "collapsed_sections": [],
      "authorship_tag": "ABX9TyPRwycJxISIjoRvN7KH+NyU",
      "include_colab_link": true
    },
    "kernelspec": {
      "name": "python3",
      "display_name": "Python 3"
    }
  },
  "cells": [
    {
      "cell_type": "markdown",
      "metadata": {
        "id": "view-in-github",
        "colab_type": "text"
      },
      "source": [
        "<a href=\"https://colab.research.google.com/github/kanakabs/Online-Workshop-Applications-of-Python-programming/blob/master/Day_2_session_1_Exercise_programs.ipynb\" target=\"_parent\"><img src=\"https://colab.research.google.com/assets/colab-badge.svg\" alt=\"Open In Colab\"/></a>"
      ]
    },
    {
      "cell_type": "markdown",
      "metadata": {
        "id": "4RJWm1SLDc1J",
        "colab_type": "text"
      },
      "source": [
        "print multiples of 3 upto 200 using a list"
      ]
    },
    {
      "cell_type": "code",
      "metadata": {
        "id": "IlMMnQr7DnRu",
        "colab_type": "code",
        "colab": {
          "base_uri": "https://localhost:8080/",
          "height": 54
        },
        "outputId": "4fc18f53-841c-48ef-df2d-c94a520e6bf7"
      },
      "source": [
        "print([i for i in range(1,200) if i%3==0])"
      ],
      "execution_count": 1,
      "outputs": [
        {
          "output_type": "stream",
          "text": [
            "[3, 6, 9, 12, 15, 18, 21, 24, 27, 30, 33, 36, 39, 42, 45, 48, 51, 54, 57, 60, 63, 66, 69, 72, 75, 78, 81, 84, 87, 90, 93, 96, 99, 102, 105, 108, 111, 114, 117, 120, 123, 126, 129, 132, 135, 138, 141, 144, 147, 150, 153, 156, 159, 162, 165, 168, 171, 174, 177, 180, 183, 186, 189, 192, 195, 198]\n"
          ],
          "name": "stdout"
        }
      ]
    },
    {
      "cell_type": "markdown",
      "metadata": {
        "id": "UEONPtJUD1OM",
        "colab_type": "text"
      },
      "source": [
        "print the nos only divisable by 5 and 7 between 1000 and 2000 using a list( both inclusive)"
      ]
    },
    {
      "cell_type": "code",
      "metadata": {
        "id": "d5NQli6_D4OS",
        "colab_type": "code",
        "colab": {
          "base_uri": "https://localhost:8080/",
          "height": 34
        },
        "outputId": "467dd576-20ab-48a6-dff9-c2640147ecef"
      },
      "source": [
        "print([i for i in range(1000,2001) if i%5==0 and i%7==0])"
      ],
      "execution_count": 2,
      "outputs": [
        {
          "output_type": "stream",
          "text": [
            "[1015, 1050, 1085, 1120, 1155, 1190, 1225, 1260, 1295, 1330, 1365, 1400, 1435, 1470, 1505, 1540, 1575, 1610, 1645, 1680, 1715, 1750, 1785, 1820, 1855, 1890, 1925, 1960, 1995]\n"
          ],
          "name": "stdout"
        }
      ]
    },
    {
      "cell_type": "markdown",
      "metadata": {
        "id": "enFULDxQD8j7",
        "colab_type": "text"
      },
      "source": [
        "Add the n number of names in a list and print them alphabetically and reverse alphabetically."
      ]
    },
    {
      "cell_type": "code",
      "metadata": {
        "id": "GodM3pv2EBQd",
        "colab_type": "code",
        "colab": {
          "base_uri": "https://localhost:8080/",
          "height": 134
        },
        "outputId": "74e90fc8-7717-450b-ab11-9ce74f636023"
      },
      "source": [
        "a=[input() for i in range(int(input(\"Enter The N Value: \")))]\n",
        "a.sort()\n",
        "print(a)\n",
        "print(a[-1::-1])"
      ],
      "execution_count": 3,
      "outputs": [
        {
          "output_type": "stream",
          "text": [
            "Enter The N Value: 4\n",
            "apple\n",
            "kanaka\n",
            "mango\n",
            "strawberry\n",
            "['apple', 'kanaka', 'mango', 'strawberry']\n",
            "['strawberry', 'mango', 'kanaka', 'apple']\n"
          ],
          "name": "stdout"
        }
      ]
    },
    {
      "cell_type": "markdown",
      "metadata": {
        "id": "WIIhmD9kERqw",
        "colab_type": "text"
      },
      "source": [
        "\n",
        "Print  perfect squares and divisible by 5 between 500 and 1000( (both inclusive) using list\n"
      ]
    },
    {
      "cell_type": "code",
      "metadata": {
        "id": "eYF694AMEXsD",
        "colab_type": "code",
        "colab": {
          "base_uri": "https://localhost:8080/",
          "height": 34
        },
        "outputId": "b9f4097b-e8f3-4b5f-b8ec-9fea38dfc1ed"
      },
      "source": [
        "import math\n",
        "print([i for i in range(500,1001) if math.sqrt(i)==int(math.sqrt(i)) and i%5==0])"
      ],
      "execution_count": 4,
      "outputs": [
        {
          "output_type": "stream",
          "text": [
            "[625, 900]\n"
          ],
          "name": "stdout"
        }
      ]
    },
    {
      "cell_type": "markdown",
      "metadata": {
        "id": "zwdP49HWEtg4",
        "colab_type": "text"
      },
      "source": [
        "\n",
        "Get  a string and store word by word as elements in a tuple and find the largest word in the  tuple and print it\n"
      ]
    },
    {
      "cell_type": "code",
      "metadata": {
        "id": "zv88bXg-EvKI",
        "colab_type": "code",
        "colab": {
          "base_uri": "https://localhost:8080/",
          "height": 67
        },
        "outputId": "f71094ee-95dd-4eab-8ec1-e11d3d116ad8"
      },
      "source": [
        "s=input(\"Enter The String: \")\n",
        "a=s.split(\" \")\n",
        "print(tuple(a))\n",
        "print(max(tuple(a)))"
      ],
      "execution_count": 5,
      "outputs": [
        {
          "output_type": "stream",
          "text": [
            "Enter The String: kanaka bs\n",
            "('kanaka', 'bs')\n",
            "kanaka\n"
          ],
          "name": "stdout"
        }
      ]
    },
    {
      "cell_type": "markdown",
      "metadata": {
        "id": "IeBAwM9_E4Na",
        "colab_type": "text"
      },
      "source": [
        "Get rollno and marks (Rollno, mark) as list of tuples for n number of students through keyboard  and print them in marks descending order with rollno."
      ]
    },
    {
      "cell_type": "code",
      "metadata": {
        "id": "LB7uSRFqE7OB",
        "colab_type": "code",
        "colab": {
          "base_uri": "https://localhost:8080/",
          "height": 151
        },
        "outputId": "a7ff534a-fb8f-4190-b9eb-f1600fc0da67"
      },
      "source": [
        "\n",
        "import operator\n",
        "d={}\n",
        "for i in range(int(input(\"Enter The Number Of Students: \"))):\n",
        "  n=input(f\"Enter The Roll Number Of Student-{i+1}: \")\n",
        "  d[n]=int(input(f\"Enter The Marks Of Student-{i+1}: \"))\n",
        "print(list(sorted(d.items(), key=operator.itemgetter(1), reverse=True)))"
      ],
      "execution_count": 6,
      "outputs": [
        {
          "output_type": "stream",
          "text": [
            "Enter The Number Of Students: 3\n",
            "Enter The Roll Number Of Student-1: 34\n",
            "Enter The Marks Of Student-1: 32\n",
            "Enter The Roll Number Of Student-2: 43\n",
            "Enter The Marks Of Student-2: 44\n",
            "Enter The Roll Number Of Student-3: 46\n",
            "Enter The Marks Of Student-3: 31\n",
            "[('43', 44), ('34', 32), ('46', 31)]\n"
          ],
          "name": "stdout"
        }
      ]
    },
    {
      "cell_type": "markdown",
      "metadata": {
        "id": "PYZ4zgXmFQQT",
        "colab_type": "text"
      },
      "source": [
        "Get name and salary (name, salary) as list of tuples for n number of employees through keyboard  and print them in name alphabetical order with salary"
      ]
    },
    {
      "cell_type": "code",
      "metadata": {
        "id": "o26cjfMGFRKz",
        "colab_type": "code",
        "colab": {
          "base_uri": "https://localhost:8080/",
          "height": 118
        },
        "outputId": "5b4b5cbd-194a-4639-bbd3-409d6f227c02"
      },
      "source": [
        "import operator\n",
        "d={}\n",
        "for i in range(int(input(\"Enter The Number Of Students: \"))):\n",
        "  n=input(f\"Enter The Name Of Employee-{i+1}: \")\n",
        "  d[n]=int(input(f\"Enter The Salary Of Employee-{i+1}: \"))\n",
        "print(list(sorted(d.items(), key=operator.itemgetter(0))))"
      ],
      "execution_count": 7,
      "outputs": [
        {
          "output_type": "stream",
          "text": [
            "Enter The Number Of Students: 2\n",
            "Enter The Name Of Employee-1: kanaka\n",
            "Enter The Salary Of Employee-1: 600000\n",
            "Enter The Name Of Employee-2: chandu\n",
            "Enter The Salary Of Employee-2: 50000\n",
            "[('chandu', 50000), ('kanaka', 600000)]\n"
          ],
          "name": "stdout"
        }
      ]
    }
  ]
}