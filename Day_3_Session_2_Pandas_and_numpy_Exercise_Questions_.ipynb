{
  "nbformat": 4,
  "nbformat_minor": 0,
  "metadata": {
    "colab": {
      "name": "Day 3 Session 2 Pandas and numpy Exercise  Questions .ipynb",
      "provenance": [],
      "collapsed_sections": [],
      "authorship_tag": "ABX9TyPB/ass3lB/dTHZRTJ5K6a4",
      "include_colab_link": true
    },
    "kernelspec": {
      "name": "python3",
      "display_name": "Python 3"
    }
  },
  "cells": [
    {
      "cell_type": "markdown",
      "metadata": {
        "id": "view-in-github",
        "colab_type": "text"
      },
      "source": [
        "<a href=\"https://colab.research.google.com/github/kanakabs/Online-Workshop-Applications-of-Python-programming/blob/master/Day_3_Session_2_Pandas_and_numpy_Exercise_Questions_.ipynb\" target=\"_parent\"><img src=\"https://colab.research.google.com/assets/colab-badge.svg\" alt=\"Open In Colab\"/></a>"
      ]
    },
    {
      "cell_type": "code",
      "metadata": {
        "id": "B9YQMbnt-J78",
        "colab_type": "code",
        "colab": {
          "base_uri": "https://localhost:8080/",
          "height": 218
        },
        "outputId": "204d4182-4de6-48cf-e84a-7947f809c98a"
      },
      "source": [
        "#Write a Pandas program to create and display a one-dimensional array using series  containing  event numbers upto 10000\n",
        "#tip : use List Comprehension\n",
        "#ds = pd.Series([0,2, 4, 6, 8..... 10000]) \n",
        "import pandas as pd\n",
        "ds = pd.Series([x for x in range(1000) if x%2==0])\n",
        "print(ds)"
      ],
      "execution_count": 1,
      "outputs": [
        {
          "output_type": "stream",
          "text": [
            "0        0\n",
            "1        2\n",
            "2        4\n",
            "3        6\n",
            "4        8\n",
            "      ... \n",
            "495    990\n",
            "496    992\n",
            "497    994\n",
            "498    996\n",
            "499    998\n",
            "Length: 500, dtype: int64\n"
          ],
          "name": "stdout"
        }
      ]
    },
    {
      "cell_type": "code",
      "metadata": {
        "id": "vrOTpQ3Y-4sC",
        "colab_type": "code",
        "colab": {
          "base_uri": "https://localhost:8080/",
          "height": 218
        },
        "outputId": "4a6f390a-c8f3-4f7f-ae09-d9a929ff6a91"
      },
      "source": [
        "\n",
        "#Write a Pandas program to convert a Panda module Series of the numbers which are between 1000 and 2000 (both inclusive) and divisable by 5 to Python list and  after convertion print its type \n",
        "import pandas as pd\n",
        "ds = pd.Series([x for x in range(1000,2000) if x%5==0])\n",
        "print(ds)\n"
      ],
      "execution_count": 2,
      "outputs": [
        {
          "output_type": "stream",
          "text": [
            "0      1000\n",
            "1      1005\n",
            "2      1010\n",
            "3      1015\n",
            "4      1020\n",
            "       ... \n",
            "195    1975\n",
            "196    1980\n",
            "197    1985\n",
            "198    1990\n",
            "199    1995\n",
            "Length: 200, dtype: int64\n"
          ],
          "name": "stdout"
        }
      ]
    },
    {
      "cell_type": "code",
      "metadata": {
        "id": "0-ZAyqJ7AWUn",
        "colab_type": "code",
        "colab": {
          "base_uri": "https://localhost:8080/",
          "height": 487
        },
        "outputId": "138452b7-1d34-4689-d04c-54d10048ef59"
      },
      "source": [
        "\n",
        "#Write a Pandas program to add, subtract, multiple and divide two Pandas Series and print their results using the Sample Series: [2, 4, 6, 8, ...100], [1, 3, 5, 7, 9...99]\n",
        "import pandas as pd\n",
        "ds1 = pd.Series([2, 4, 6, 8, 10])\n",
        "ds2 = pd.Series([1, 3, 5, 7, 9])\n",
        "ds = ds1 + ds2\n",
        "print(\"Add two Series:\")\n",
        "print(ds)\n",
        "print(\"Subtract two Series:\")\n",
        "ds = ds1 - ds2\n",
        "print(ds)\n",
        "print(\"Multiply two Series:\")\n",
        "ds = ds1 * ds2\n",
        "print(ds)\n",
        "print(\"Divide Series1 by Series2:\")\n",
        "ds = ds1 / ds2\n",
        "print(ds)"
      ],
      "execution_count": 3,
      "outputs": [
        {
          "output_type": "stream",
          "text": [
            "Add two Series:\n",
            "0     3\n",
            "1     7\n",
            "2    11\n",
            "3    15\n",
            "4    19\n",
            "dtype: int64\n",
            "Subtract two Series:\n",
            "0    1\n",
            "1    1\n",
            "2    1\n",
            "3    1\n",
            "4    1\n",
            "dtype: int64\n",
            "Multiply two Series:\n",
            "0     2\n",
            "1    12\n",
            "2    30\n",
            "3    56\n",
            "4    90\n",
            "dtype: int64\n",
            "Divide Series1 by Series2:\n",
            "0    2.000000\n",
            "1    1.333333\n",
            "2    1.200000\n",
            "3    1.142857\n",
            "4    1.111111\n",
            "dtype: float64\n"
          ],
          "name": "stdout"
        }
      ]
    },
    {
      "cell_type": "code",
      "metadata": {
        "id": "P-FONKefAteX",
        "colab_type": "code",
        "colab": {
          "base_uri": "https://localhost:8080/",
          "height": 622
        },
        "outputId": "8570ef78-ea69-4446-a05f-65cc1095feaf"
      },
      "source": [
        "\n",
        "#4.Write a Pandas program to compare (Equivalence, greater than, less than, not equal to )the elements of the two Pandas Series.\n",
        "#Sample Series: [All positive numbers divisable by 7 upto 1000], [All positive numbers divisable by 11 upto 1000]\n",
        "import pandas as pd\n",
        "ds1 = pd.Series([2, 4, 6, 8, 10])\n",
        "ds2 = pd.Series([1, 3, 5, 7, 10])\n",
        "print(\"Series1:\")\n",
        "print(ds1)\n",
        "print(\"Series2:\")\n",
        "print(ds2)\n",
        "print(\"Compare the elements of the said Series:\")\n",
        "print(\"Equals:\")\n",
        "print(ds1 == ds2)\n",
        "print(\"Greater than:\")\n",
        "print(ds1 > ds2)\n",
        "print(\"Less than:\")\n",
        "print(ds1 < ds2)"
      ],
      "execution_count": 4,
      "outputs": [
        {
          "output_type": "stream",
          "text": [
            "Series1:\n",
            "0     2\n",
            "1     4\n",
            "2     6\n",
            "3     8\n",
            "4    10\n",
            "dtype: int64\n",
            "Series2:\n",
            "0     1\n",
            "1     3\n",
            "2     5\n",
            "3     7\n",
            "4    10\n",
            "dtype: int64\n",
            "Compare the elements of the said Series:\n",
            "Equals:\n",
            "0    False\n",
            "1    False\n",
            "2    False\n",
            "3    False\n",
            "4     True\n",
            "dtype: bool\n",
            "Greater than:\n",
            "0     True\n",
            "1     True\n",
            "2     True\n",
            "3     True\n",
            "4    False\n",
            "dtype: bool\n",
            "Less than:\n",
            "0    False\n",
            "1    False\n",
            "2    False\n",
            "3    False\n",
            "4    False\n",
            "dtype: bool\n"
          ],
          "name": "stdout"
        }
      ]
    },
    {
      "cell_type": "code",
      "metadata": {
        "id": "ItGVczp6A4XL",
        "colab_type": "code",
        "colab": {
          "base_uri": "https://localhost:8080/",
          "height": 168
        },
        "outputId": "2448de32-d653-4a7a-c7c7-0bcf99178ec7"
      },
      "source": [
        "#5.Write a Pandas program to convert a NumPy array to a Pandas series.\n",
        "#Sample NumPy array: d1 = [10, 20, 30, 40, 50... 1000]\n",
        "import numpy as np\n",
        "import pandas as pd\n",
        "np_array = np.array([10, 20, 30, 40, 50])\n",
        "print(\"NumPy array:\")\n",
        "print(np_array)\n",
        "new_series = pd.Series(np_array)\n",
        "print(\"Converted Pandas series:\")\n",
        "print(new_series)"
      ],
      "execution_count": 5,
      "outputs": [
        {
          "output_type": "stream",
          "text": [
            "NumPy array:\n",
            "[10 20 30 40 50]\n",
            "Converted Pandas series:\n",
            "0    10\n",
            "1    20\n",
            "2    30\n",
            "3    40\n",
            "4    50\n",
            "dtype: int64\n"
          ],
          "name": "stdout"
        }
      ]
    },
    {
      "cell_type": "code",
      "metadata": {
        "id": "y12mxK5iBBRn",
        "colab_type": "code",
        "colab": {
          "base_uri": "https://localhost:8080/",
          "height": 286
        },
        "outputId": "857aa5fd-ff15-442e-f6c3-f20d7c02229c"
      },
      "source": [
        "\n",
        "#6.Write a Pandas program to convert a given Series to an array.\n",
        "#Sample series is ['100', '200', ‘300’,’400’,’500’,'python', '300.12', '400',’is’,’great’,’language’]\n",
        "\n",
        "import pandas as pd\n",
        "import numpy as np\n",
        "s1 = pd.Series(['100', '200', '300','400','500','python', '300.12', '400','is','great','language'])\n",
        "print(\"Original Data Series:\")\n",
        "print(s1)\n",
        "print(\"Series to an array\")\n",
        "a = np.array(s1.values.tolist())\n",
        "print (a)"
      ],
      "execution_count": 6,
      "outputs": [
        {
          "output_type": "stream",
          "text": [
            "Original Data Series:\n",
            "0          100\n",
            "1          200\n",
            "2          300\n",
            "3          400\n",
            "4          500\n",
            "5       python\n",
            "6       300.12\n",
            "7          400\n",
            "8           is\n",
            "9        great\n",
            "10    language\n",
            "dtype: object\n",
            "Series to an array\n",
            "['100' '200' '300' '400' '500' 'python' '300.12' '400' 'is' 'great'\n",
            " 'language']\n"
          ],
          "name": "stdout"
        }
      ]
    },
    {
      "cell_type": "code",
      "metadata": {
        "id": "uZD70E_YBKce",
        "colab_type": "code",
        "colab": {
          "base_uri": "https://localhost:8080/",
          "height": 286
        },
        "outputId": "90d788fc-bd94-43b0-aacc-c6d0da166086"
      },
      "source": [
        "\n",
        "#7.Write a Pandas program to sort a given Series.\n",
        "#Sample series is ['100', '200', ‘300’,’400’,’500’,'python', '300.12', '400',’is’,’great’,’language’]\n",
        "\n",
        "import pandas as pd\n",
        "import numpy as np\n",
        "s1 = pd.Series(['100', '200', '300','400','500','python', '300.12', '400','is','great','language'])\n",
        "print(\"Original Data Series:\")\n",
        "print(s1)\n",
        "print(\"Series to an array\")\n",
        "a = np.array(s1.values.tolist())\n",
        "a.sort()\n",
        "print (a)\n"
      ],
      "execution_count": 7,
      "outputs": [
        {
          "output_type": "stream",
          "text": [
            "Original Data Series:\n",
            "0          100\n",
            "1          200\n",
            "2          300\n",
            "3          400\n",
            "4          500\n",
            "5       python\n",
            "6       300.12\n",
            "7          400\n",
            "8           is\n",
            "9        great\n",
            "10    language\n",
            "dtype: object\n",
            "Series to an array\n",
            "['100' '200' '300' '300.12' '400' '400' '500' 'great' 'is' 'language'\n",
            " 'python']\n"
          ],
          "name": "stdout"
        }
      ]
    },
    {
      "cell_type": "code",
      "metadata": {
        "id": "GgibxZT8BRZd",
        "colab_type": "code",
        "colab": {
          "base_uri": "https://localhost:8080/",
          "height": 386
        },
        "outputId": "e2a93175-d1d7-4a05-86ae-8bd2ced1cf5f"
      },
      "source": [
        "#8.Write a Pandas program to create a subsets of a given series based on value and condition.\n",
        "#Sample NumPy array: d1 = [10, 20, 30, 40, 50... 1000] value and condtion : Subset 1 :numbers divisable by 7 Subset 2 : numbers divisable by 5\n",
        "\n",
        "import pandas as pd\n",
        "s = pd.Series([0, 1,2,3,4,5,6,7,8,9,10])\n",
        "print(\"Original Data Series:\")\n",
        "print(s)\n",
        "print(\"\\nSubset of the above Data Series:\")\n",
        "n = 6\n",
        "new_s = s[s < n]\n",
        "print(new_s)\n"
      ],
      "execution_count": 8,
      "outputs": [
        {
          "output_type": "stream",
          "text": [
            "Original Data Series:\n",
            "0      0\n",
            "1      1\n",
            "2      2\n",
            "3      3\n",
            "4      4\n",
            "5      5\n",
            "6      6\n",
            "7      7\n",
            "8      8\n",
            "9      9\n",
            "10    10\n",
            "dtype: int64\n",
            "\n",
            "Subset of the above Data Series:\n",
            "0    0\n",
            "1    1\n",
            "2    2\n",
            "3    3\n",
            "4    4\n",
            "5    5\n",
            "dtype: int64\n"
          ],
          "name": "stdout"
        }
      ]
    },
    {
      "cell_type": "code",
      "metadata": {
        "id": "7Zh9RsG3BZ8V",
        "colab_type": "code",
        "colab": {
          "base_uri": "https://localhost:8080/",
          "height": 302
        },
        "outputId": "693b57f2-c57b-472b-b975-010eca91f667"
      },
      "source": [
        "#9.Write a Pandas program to create the mean and standard deviation, maximum and minimum of the data of a given Series of the prime numbers upto 1000\n",
        "\n",
        "import pandas as pd\n",
        "s = pd.Series(data = [x for x in range(1000) if x%2==0])\n",
        "print(\"Original Data Series:\")\n",
        "print(s)\n",
        "print(\"Mean of the said Data Series:\")\n",
        "print(s.mean())\n",
        "print(\"Standard deviation of the said Data Series:\")\n",
        "print(s.std())"
      ],
      "execution_count": 9,
      "outputs": [
        {
          "output_type": "stream",
          "text": [
            "Original Data Series:\n",
            "0        0\n",
            "1        2\n",
            "2        4\n",
            "3        6\n",
            "4        8\n",
            "      ... \n",
            "495    990\n",
            "496    992\n",
            "497    994\n",
            "498    996\n",
            "499    998\n",
            "Length: 500, dtype: int64\n",
            "Mean of the said Data Series:\n",
            "499.0\n",
            "Standard deviation of the said Data Series:\n",
            "288.9636655359978\n"
          ],
          "name": "stdout"
        }
      ]
    },
    {
      "cell_type": "code",
      "metadata": {
        "id": "yXvoIrNWBgXK",
        "colab_type": "code",
        "colab": {
          "base_uri": "https://localhost:8080/",
          "height": 118
        },
        "outputId": "80689e6b-cf7f-489f-ea7e-355745c73f62"
      },
      "source": [
        "\n",
        "#10.Write a Pandas program to get the elements of an array values into column-wise.\n",
        "#Sample data: {‘X’:[All odd numbers but not divisable by 7 upto 1000], 'Y':[ All even numbers but not divisable by 5 upto 1000 ],'Z':[ All odd numbers but not divisable by 3 upto 1000]}\n",
        "\n",
        "import pandas as pd\n",
        "df = pd.DataFrame({'X':[78,85,96,80,86], 'Y':[84,94,89,83,86],'Z':[86,97,96,72,83]});\n",
        "print(df)"
      ],
      "execution_count": 10,
      "outputs": [
        {
          "output_type": "stream",
          "text": [
            "    X   Y   Z\n",
            "0  78  84  86\n",
            "1  85  94  97\n",
            "2  96  89  96\n",
            "3  80  83  72\n",
            "4  86  86  83\n"
          ],
          "name": "stdout"
        }
      ]
    },
    {
      "cell_type": "code",
      "metadata": {
        "id": "bCIFmOpZDXyd",
        "colab_type": "code",
        "colab": {}
      },
      "source": [
        "#11.Write a Pandas program to display the first 10 rows of the DataFrame for any particular three fields.\n",
        "\n",
        "import pandas as pd\n",
        "import numpy as np\n",
        "\n",
        "exam_data  = {'name': ['Anastasia', 'Dima', 'Katherine', 'James', 'Emily', 'Michael', 'Matthew', 'Laura', 'Kevin', 'Jonas'],\n",
        "        'score': [12.5, 9, 16.5, np.nan, 9, 20, 14.5, np.nan, 8, 19],\n",
        "        'attempts': [1, 3, 2, 3, 2, 3, 1, 1, 2, 1],\n",
        "        'qualify': ['yes', 'no', 'yes', 'no', 'no', 'yes', 'yes', 'no', 'no', 'yes']}\n",
        "labels = ['a', 'b', 'c', 'd', 'e', 'f', 'g', 'h', 'i', 'j']\n",
        "\n",
        "df = pd.DataFrame(exam_data , index=labels)\n",
        "print(\"First three rows of the data frame:\")\n",
        "print(df.iloc[:3])\n",
        "\n",
        "\n",
        "!pip install -U -q PyDrive\n",
        "from pydrive.auth import GoogleAuth\n",
        "from pydrive.drive import GoogleDrive\n",
        "from google.colab import auth\n",
        "from oauth2client.client import GoogleCredentials\n",
        "\n",
        "\n",
        "auth.authenticate_user()\n",
        "gauth = GoogleAuth()\n",
        "gauth.credentials = GoogleCredentials.get_application_default()\n",
        "drive = GoogleDrive(gauth)\n",
        "\n",
        "downloaded = drive.CreateFile({'id':'1hzxXR0uL-JosrCjV6JNn4g9FRMttT5rP'}) # replace the id with id of file you want to access\n",
        "downloaded.GetContentFile('movies_metadata.csv') \n",
        "\n",
        "import pandas as pd\n",
        "xyz = pd.read_csv('movies_metadata.csv') \n",
        "print(xyz.head(1))\n",
        "\n"
      ],
      "execution_count": null,
      "outputs": []
    },
    {
      "cell_type": "code",
      "metadata": {
        "id": "1KT9bmbYDzNu",
        "colab_type": "code",
        "colab": {}
      },
      "source": [
        "#12.Write a Pandas program to get the details of the seventh movie of the DataFrame for any particular three fields #(movie_metadata.csv file).\n",
        "\n",
        "import pandas as pd\n",
        "df = pd.read_csv('movies_metadata.csv')\n",
        "seventh_movie = df.iloc[3]\n",
        "print(\"Details of the seventh movie:\")\n",
        "print(seventh_movie)\n"
      ],
      "execution_count": null,
      "outputs": []
    },
    {
      "cell_type": "code",
      "metadata": {
        "id": "rYpKz-bFD4DQ",
        "colab_type": "code",
        "colab": {}
      },
      "source": [
        "\n",
        "#13.Write a Pandas program to sort the DataFrame based on title_year from dataset of movie_metadata.csv for any particular three fields\n",
        "\n",
        "import pandas as pd\n",
        "df = pd.read_csv('movies_metadata.csv')\n",
        "result = df[['title', 'genres']]\n",
        "print(\"Details of title and genres:\")\n",
        "print(result)"
      ],
      "execution_count": null,
      "outputs": []
    },
    {
      "cell_type": "code",
      "metadata": {
        "id": "UdZtkqLYD9j4",
        "colab_type": "code",
        "colab": {}
      },
      "source": [
        "\n",
        "#14.Write a Pandas program to sort the DataFrame based on country and language from dataset of movie_metadata.csv\n",
        "\n",
        "import pandas as pd\n",
        "df = pd.read_csv('movies_metadata.csv')\n",
        "# Create a smaller dataframe\n",
        "small_df = df[['title', 'release_date', 'budget', 'revenue', 'runtime']]\n",
        "result = small_df.sort_values('release_date')\n",
        "print(\"DataFrame based on country and language.\")\n",
        "print(result)\n"
      ],
      "execution_count": null,
      "outputs": []
    },
    {
      "cell_type": "code",
      "metadata": {
        "id": "QUyvc5_GEDbf",
        "colab_type": "code",
        "colab": {
          "base_uri": "https://localhost:8080/",
          "height": 101
        },
        "outputId": "4c023869-8c2d-483f-a4f3-4ba92252f6d0"
      },
      "source": [
        "\n",
        "#15.Write a NumPy program to create a random 4x4 array and extract the 2nd and 3rd rows of the array and store them into a variable\n",
        "\n",
        "import numpy as np\n",
        "x = np.random.random((4,4))\n",
        "print(\"Original Array:\")\n",
        "print(x) "
      ],
      "execution_count": 15,
      "outputs": [
        {
          "output_type": "stream",
          "text": [
            "Original Array:\n",
            "[[0.09566479 0.40479496 0.05699071 0.49161983]\n",
            " [0.95080591 0.92090495 0.65805135 0.57907464]\n",
            " [0.62348646 0.93618568 0.57632126 0.62035946]\n",
            " [0.81554782 0.3383092  0.18384821 0.77027923]]\n"
          ],
          "name": "stdout"
        }
      ]
    },
    {
      "cell_type": "code",
      "metadata": {
        "id": "Amf20xZkEK2G",
        "colab_type": "code",
        "colab": {
          "base_uri": "https://localhost:8080/",
          "height": 403
        },
        "outputId": "ba05d95c-6b67-453c-9356-74413964441d"
      },
      "source": [
        "\n",
        "#16.Write a NumPy program to create a 10x10 array with random values and find the minimum and maximum values.\n",
        "\n",
        "import numpy as np\n",
        "x = np.random.random((10,10))\n",
        "print(\"Original Array:\")\n",
        "print(x) \n",
        "xmin, xmax = x.min(), x.max()\n",
        "print(\"Minimum and Maximum Values:\")\n",
        "print(xmin, xmax)\n"
      ],
      "execution_count": 16,
      "outputs": [
        {
          "output_type": "stream",
          "text": [
            "Original Array:\n",
            "[[0.00392012 0.72527033 0.71078176 0.58429335 0.15202381 0.83302592\n",
            "  0.15986208 0.42498181 0.47954571 0.80796991]\n",
            " [0.26269435 0.22392037 0.62379439 0.07706657 0.5808097  0.50382863\n",
            "  0.07942869 0.28940602 0.96005002 0.1773168 ]\n",
            " [0.31977141 0.76676896 0.57905058 0.14938926 0.45822008 0.08699465\n",
            "  0.31248103 0.42878084 0.115996   0.98554257]\n",
            " [0.87008141 0.71806041 0.27730561 0.70334438 0.82445638 0.58987535\n",
            "  0.3796713  0.90903051 0.80311715 0.97810477]\n",
            " [0.42936588 0.0101653  0.9176917  0.15042527 0.52734977 0.07907766\n",
            "  0.08158001 0.96421425 0.22618019 0.07415608]\n",
            " [0.00704057 0.53390854 0.35943827 0.67576634 0.89681938 0.01664746\n",
            "  0.11835935 0.75563037 0.20222478 0.5181283 ]\n",
            " [0.66978211 0.83047364 0.38643345 0.33844524 0.93551953 0.25355478\n",
            "  0.55315855 0.87611879 0.84109376 0.21877897]\n",
            " [0.32838104 0.33667753 0.35093528 0.27648866 0.57828258 0.70099889\n",
            "  0.91951252 0.95574959 0.91630575 0.04101913]\n",
            " [0.3727367  0.13462263 0.41531547 0.14854555 0.99064051 0.01998256\n",
            "  0.20240924 0.70838536 0.2695336  0.27329154]\n",
            " [0.76816834 0.37485072 0.23930971 0.88465992 0.14638571 0.05527978\n",
            "  0.52248793 0.73209011 0.58997893 0.09156861]]\n",
            "Minimum and Maximum Values:\n",
            "0.003920122476150145 0.9906405137651606\n"
          ],
          "name": "stdout"
        }
      ]
    },
    {
      "cell_type": "code",
      "metadata": {
        "id": "OPKdWR4TERaw",
        "colab_type": "code",
        "colab": {
          "base_uri": "https://localhost:8080/",
          "height": 34
        },
        "outputId": "913a35f6-6f74-4073-cec3-a7ed410e99dd"
      },
      "source": [
        "#17.Write a NumPy program to generate 8 random integers between 100 and 300\n",
        "\n",
        "import numpy as np\n",
        "x = np.random.randint(low=100, high=300, size=8)\n",
        "print(x)\n"
      ],
      "execution_count": 17,
      "outputs": [
        {
          "output_type": "stream",
          "text": [
            "[147 152 137 132 181 165 219 139]\n"
          ],
          "name": "stdout"
        }
      ]
    },
    {
      "cell_type": "code",
      "metadata": {
        "id": "ws5ZZMKjEWxu",
        "colab_type": "code",
        "colab": {
          "base_uri": "https://localhost:8080/",
          "height": 185
        },
        "outputId": "da36f8c8-f5c2-4395-a4c4-fb7574402c74"
      },
      "source": [
        "#18.Write a NumPy program to create a random integer nos of size 20 and sort it\n",
        "\n",
        "import numpy as np\n",
        "x = np.random.random(20)\n",
        "print(\"Original array:\")\n",
        "print(x)\n",
        "x.sort()\n",
        "print(\"Sorted array:\")\n",
        "print(x)"
      ],
      "execution_count": 18,
      "outputs": [
        {
          "output_type": "stream",
          "text": [
            "Original array:\n",
            "[0.95139396 0.46827392 0.08666022 0.13486833 0.90722609 0.22120233\n",
            " 0.32783759 0.59179384 0.78367686 0.08922535 0.97577066 0.38944129\n",
            " 0.95959897 0.22537912 0.6081764  0.56155033 0.05388822 0.94088341\n",
            " 0.19055426 0.62717132]\n",
            "Sorted array:\n",
            "[0.05388822 0.08666022 0.08922535 0.13486833 0.19055426 0.22120233\n",
            " 0.22537912 0.32783759 0.38944129 0.46827392 0.56155033 0.59179384\n",
            " 0.6081764  0.62717132 0.78367686 0.90722609 0.94088341 0.95139396\n",
            " 0.95959897 0.97577066]\n"
          ],
          "name": "stdout"
        }
      ]
    }
  ]
}