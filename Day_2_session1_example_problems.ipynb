{
  "nbformat": 4,
  "nbformat_minor": 0,
  "metadata": {
    "colab": {
      "name": "Day 2 session1 example problems.ipynb",
      "provenance": [],
      "collapsed_sections": [],
      "authorship_tag": "ABX9TyNaks4ZWT/X38vJtk+3IvvR",
      "include_colab_link": true
    },
    "kernelspec": {
      "name": "python3",
      "display_name": "Python 3"
    }
  },
  "cells": [
    {
      "cell_type": "markdown",
      "metadata": {
        "id": "view-in-github",
        "colab_type": "text"
      },
      "source": [
        "<a href=\"https://colab.research.google.com/github/kanakabs/Online-Workshop-Applications-of-Python-programming/blob/master/Day_2_session1_example_problems.ipynb\" target=\"_parent\"><img src=\"https://colab.research.google.com/assets/colab-badge.svg\" alt=\"Open In Colab\"/></a>"
      ]
    },
    {
      "cell_type": "code",
      "metadata": {
        "id": "CY0gUB8NGaJr",
        "colab_type": "code",
        "colab": {
          "base_uri": "https://localhost:8080/",
          "height": 101
        },
        "outputId": "ac76473d-15c8-4c6d-803d-2bf7fdea611c"
      },
      "source": [
        "\n",
        "#Program to find the largest number in a list.\n",
        "a=[]\n",
        "n=int(input(\"Enter number of elements:\"))\n",
        "for i in range(1,n+1):\n",
        "    b=int(input(\"Enter element:\"))\n",
        "    a.append(b)\n",
        "a.sort()\n",
        "print(\"Largest element is:\",a[n-1])"
      ],
      "execution_count": 1,
      "outputs": [
        {
          "output_type": "stream",
          "text": [
            "Enter number of elements:3\n",
            "Enter element:5\n",
            "Enter element:6\n",
            "Enter element:9\n",
            "Largest element is: 9\n"
          ],
          "name": "stdout"
        }
      ]
    },
    {
      "cell_type": "code",
      "metadata": {
        "id": "BS3XH1zEGqMr",
        "colab_type": "code",
        "colab": {
          "base_uri": "https://localhost:8080/",
          "height": 118
        },
        "outputId": "a13c3260-c4f2-4f6d-c45a-ca9ca7bf321a"
      },
      "source": [
        "\n",
        "#Python Program to put the even and odd elements in a list into two different lists. \n",
        "a=[]\n",
        "n=int(input(\"Enter number of elements:\"))\n",
        "for i in range(1,n+1):\n",
        "    b=int(input(\"Enter element:\"))\n",
        "    a.append(b)\n",
        "even=[]\n",
        "odd=[]\n",
        "for j in a:\n",
        "    if(j%2==0):\n",
        "        even.append(j)\n",
        "    else:\n",
        "        odd.append(j)\n",
        "print(\"The even list\",even)\n",
        "print(\"The odd list\",odd)"
      ],
      "execution_count": 2,
      "outputs": [
        {
          "output_type": "stream",
          "text": [
            "Enter number of elements:3\n",
            "Enter element:5\n",
            "Enter element:7\n",
            "Enter element:2\n",
            "The even list [2]\n",
            "The odd list [5, 7]\n"
          ],
          "name": "stdout"
        }
      ]
    },
    {
      "cell_type": "code",
      "metadata": {
        "id": "YpjDe8HOGzNm",
        "colab_type": "code",
        "colab": {
          "base_uri": "https://localhost:8080/",
          "height": 151
        },
        "outputId": "a0e5667b-f80a-4cde-8d4a-686139cd6ddf"
      },
      "source": [
        "\n",
        "#Python Program to merge two lists and sort it.\n",
        "a=[]\n",
        "c=[]\n",
        "n1=int(input(\"Enter number of elements:\"))\n",
        "for i in range(1,n1+1):\n",
        "    b=int(input(\"Enter element:\"))\n",
        "    a.append(b)\n",
        "n2=int(input(\"Enter number of elements:\"))\n",
        "for i in range(1,n2+1):\n",
        "    d=int(input(\"Enter element:\"))\n",
        "    c.append(d)\n",
        "new=a+c\n",
        "new.sort()\n",
        "print(\"Sorted list is:\",new)"
      ],
      "execution_count": 3,
      "outputs": [
        {
          "output_type": "stream",
          "text": [
            "Enter number of elements:3\n",
            "Enter element:5\n",
            "Enter element:2\n",
            "Enter element:6\n",
            "Enter number of elements:2\n",
            "Enter element:8\n",
            "Enter element:9\n",
            "Sorted list is: [2, 5, 6, 8, 9]\n"
          ],
          "name": "stdout"
        }
      ]
    },
    {
      "cell_type": "code",
      "metadata": {
        "id": "lRTnREdyHEDS",
        "colab_type": "code",
        "colab": {
          "base_uri": "https://localhost:8080/",
          "height": 34
        },
        "outputId": "2f7a7dc4-351b-4a24-8c2b-08ba2efa10f2"
      },
      "source": [
        "\n",
        "#Python Program to sort the list according to the second element in the sublist.\n",
        "\n",
        "a=[['A',34],['B',21],['C',26],['E',29]]\n",
        "for i in range(0,len(a)):\n",
        "    for j in range(i+1,len(a)):\n",
        "        if(a[i][1]>a[j][1]):\n",
        "            temp=a[j]\n",
        "            a[j]=a[i]\n",
        "            a[i]=temp\n",
        " \n",
        "print(a)"
      ],
      "execution_count": 4,
      "outputs": [
        {
          "output_type": "stream",
          "text": [
            "[['B', 21], ['C', 26], ['E', 29], ['A', 34]]\n"
          ],
          "name": "stdout"
        }
      ]
    },
    {
      "cell_type": "code",
      "metadata": {
        "id": "y2g7WnPWHJUT",
        "colab_type": "code",
        "colab": {
          "base_uri": "https://localhost:8080/",
          "height": 84
        },
        "outputId": "cffa991a-5b42-47a8-fc01-360ad38d44e9"
      },
      "source": [
        "#Python Program to find the second largest number in a list using bubble sort. \n",
        "a=[]\n",
        "n=int(input(\"Enter number of elements:\"))\n",
        "for i in range(1,n+1):\n",
        "    b=int(input(\"Enter element:\"))\n",
        "    a.append(b)\n",
        "for i in range(0,len(a)):\n",
        "    for j in range(0,len(a)-i-1):\n",
        "        if(a[j]>a[j+1]):\n",
        "            temp=a[j]\n",
        "            a[j]=a[j+1]\n",
        "            a[j+1]=temp \n",
        "print('Second largest number is:',a[n-2])"
      ],
      "execution_count": 5,
      "outputs": [
        {
          "output_type": "stream",
          "text": [
            "Enter number of elements:2\n",
            "Enter element:6\n",
            "Enter element:3\n",
            "Second largest number is: 3\n"
          ],
          "name": "stdout"
        }
      ]
    },
    {
      "cell_type": "code",
      "metadata": {
        "id": "_DVVV9d8Hhff",
        "colab_type": "code",
        "colab": {
          "base_uri": "https://localhost:8080/",
          "height": 67
        },
        "outputId": "eeaf71f4-dea7-4015-b2e8-f0b1b340784a"
      },
      "source": [
        "\n",
        "l_range=int(input(\"Enter the lower range:\"))\n",
        "u_range=int(input(\"Enter the upper range:\"))\n",
        "a=[(x,x**2) for x in range(l_range,u_range+1)]\n",
        "print(a)"
      ],
      "execution_count": 6,
      "outputs": [
        {
          "output_type": "stream",
          "text": [
            "Enter the lower range:4\n",
            "Enter the upper range:9\n",
            "[(4, 16), (5, 25), (6, 36), (7, 49), (8, 64), (9, 81)]\n"
          ],
          "name": "stdout"
        }
      ]
    },
    {
      "cell_type": "code",
      "metadata": {
        "id": "LNoESjf8Hm3y",
        "colab_type": "code",
        "colab": {
          "base_uri": "https://localhost:8080/",
          "height": 50
        },
        "outputId": "0eaa100e-5460-4f1a-b3c9-f5a7d7cc1133"
      },
      "source": [
        "\n",
        "#Python Program to generate random numbers from 1 to 20 and append them to the list.\n",
        "\n",
        "import random\n",
        "a=[]\n",
        "n=int(input(\"Enter number of elements:\"))\n",
        "for j in range(n):\n",
        "    a.append(random.randint(1,20))\n",
        "print('Randomised list is: ',a)"
      ],
      "execution_count": 7,
      "outputs": [
        {
          "output_type": "stream",
          "text": [
            "Enter number of elements:9\n",
            "Randomised list is:  [3, 16, 18, 17, 9, 6, 12, 12, 10]\n"
          ],
          "name": "stdout"
        }
      ]
    }
  ]
}